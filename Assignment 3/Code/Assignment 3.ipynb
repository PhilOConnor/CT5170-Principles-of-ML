{
 "cells": [
  {
   "cell_type": "code",
   "execution_count": 33,
   "metadata": {},
   "outputs": [],
   "source": [
    "import pandas as pd\n",
    "from pandas.plotting import scatter_matrix\n",
    "import numpy as np\n",
    "import matplotlib.pyplot as plt\n",
    "from sklearn.linear_model import SGDRegressor\n",
    "from sklearn.metrics import mean_squared_error\n",
    "from sklearn.model_selection import StratifiedShuffleSplit, cross_val_score\n",
    "from sklearn.preprocessing import OneHotEncoder, OrdinalEncoder, PolynomialFeatures"
   ]
  },
  {
   "cell_type": "code",
   "execution_count": 2,
   "metadata": {},
   "outputs": [],
   "source": [
    "df = pd.read_csv('../Data/galway_rentals.txt', delimiter='\\t')"
   ]
  },
  {
   "cell_type": "code",
   "execution_count": 3,
   "metadata": {},
   "outputs": [],
   "source": [
    "\"\"\" Encoding categorical features\n",
    "Ordinal features:\n",
    "    ber: a->exempt\n",
    "    floor: third, second, first, ground\n",
    "\n",
    "Nominal features: - no order\n",
    "    type: house, studio, apartment, townhouse\n",
    "    heating: central, electric, NA\n",
    "    Balcony: yes, no\n",
    "\"\"\"\n",
    "ber = ['a', 'b1', 'b2', 'b3', 'c1', 'c2', 'c3', 'd1', 'd2', 'e1', 'e2', 'f', 'g', 'exempt']\n",
    "floor = ['third', 'second', 'first', 'ground']\n",
    "ord_encoder = OrdinalEncoder(categories = [ber, floor])\n",
    "df[['ber', 'floor']] = ord_encoder.fit_transform(df[[\"ber\", 'floor']])\n",
    "\n",
    "#lab_encoder = LabelEncoder()\n",
    "oh_encoder = OneHotEncoder(sparse=False)\n",
    "# transform data\n",
    "oh_type = pd.DataFrame(oh_encoder.fit_transform(df[['type']]), columns=['apartment', \"house\", \"studio\", 'townhouse'])\n",
    "oh_heating = pd.DataFrame(oh_encoder.fit_transform(df[['heating']]), columns=['central', \"electric\", \"na\"])\n",
    "oh_balcony = pd.DataFrame(oh_encoder.fit_transform(df[['balcony']]),  columns=['no_balcony', \"has_balcony\"])"
   ]
  },
  {
   "cell_type": "code",
   "execution_count": 4,
   "metadata": {},
   "outputs": [],
   "source": [
    "df = pd.concat([df, oh_type], axis=1)\n",
    "df = pd.concat([df, oh_heating], axis=1)\n",
    "df = pd.concat([df, oh_balcony], axis=1)\n",
    "df.drop(columns=['type', 'balcony', 'heating'], axis=0, inplace=True)"
   ]
  },
  {
   "cell_type": "code",
   "execution_count": 5,
   "metadata": {},
   "outputs": [
    {
     "data": {
      "text/plain": [
       "<matplotlib.axes._subplots.AxesSubplot at 0x2191b10e340>"
      ]
     },
     "execution_count": 5,
     "metadata": {},
     "output_type": "execute_result"
    },
    {
     "data": {
      "image/png": "[encoded data removed]",
      "text/plain": [
       "<Figure size 432x288 with 1 Axes>"
      ]
     },
     "metadata": {
      "needs_background": "light"
     },
     "output_type": "display_data"
    }
   ],
   "source": [
    "df['price_per_month'].hist(bins=10)"
   ]
  },
  {
   "cell_type": "code",
   "execution_count": 6,
   "metadata": {},
   "outputs": [],
   "source": [
    "df['price_cat'] = pd.cut(df['price_per_month'], \n",
    "                        bins=[0,1200,1500, 2000,np.inf],\n",
    "                        labels=[1,2,3,4])"
   ]
  },
  {
   "cell_type": "code",
   "execution_count": 7,
   "metadata": {},
   "outputs": [
    {
     "data": {
      "text/plain": [
       "<matplotlib.axes._subplots.AxesSubplot at 0x2191b88e1f0>"
      ]
     },
     "execution_count": 7,
     "metadata": {},
     "output_type": "execute_result"
    },
    {
     "data": {
      "image/png": "[encoded data removed]",
      "text/plain": [
       "<Figure size 432x288 with 1 Axes>"
      ]
     },
     "metadata": {
      "needs_background": "light"
     },
     "output_type": "display_data"
    }
   ],
   "source": [
    "df['price_cat'].hist()"
   ]
  },
  {
   "cell_type": "code",
   "execution_count": 27,
   "metadata": {},
   "outputs": [],
   "source": [
    "split = StratifiedShuffleSplit(n_splits=1, test_size=0.2, random_state=50)\n",
    "for train_index, test_index in split.split(df, df['price_cat']):\n",
    "    strat_train_set = df.loc[train_index]\n",
    "    strat_test_set = df.loc[test_index]\n",
    "    \n",
    "for i in (strat_train_set,strat_test_set):\n",
    "    i.drop('price_cat', axis=1, inplace=True)\n",
    "    \n",
    "target = 'price_per_month'\n",
    "features = list(strat_train_set.columns)[1:]\n",
    "\n",
    "X_train, y_train = strat_train_set[features], strat_train_set[target]\n",
    "X_test, y_test = strat_test_set[features], strat_test_set[target]"
   ]
  },
  {
   "cell_type": "code",
   "execution_count": 13,
   "metadata": {
    "collapsed": true,
    "jupyter": {
     "outputs_hidden": true
    }
   },
   "outputs": [
    {
     "data": {
      "text/plain": [
       "price_per_month         1.000000\n",
       "num_bedrooms            0.722936\n",
       "num_bathrooms           0.545036\n",
       "house                   0.485180\n",
       "central                 0.276742\n",
       "distance_gmit           0.092388\n",
       "townhouse               0.090741\n",
       "floor                   0.088034\n",
       "has_balcony             0.008518\n",
       "no_balcony             -0.008518\n",
       "na                     -0.052071\n",
       "distance_eyre_square   -0.142780\n",
       "distance_salthill      -0.164176\n",
       "ber                    -0.195112\n",
       "distance_nuig          -0.219144\n",
       "studio                 -0.252592\n",
       "electric               -0.266251\n",
       "apartment              -0.422840\n",
       "Name: price_per_month, dtype: float64"
      ]
     },
     "execution_count": 13,
     "metadata": {},
     "output_type": "execute_result"
    }
   ],
   "source": [
    "corr_matrix = df.corr()\n",
    "corr_matrix[\"price_per_month\"].sort_values(ascending=False)"
   ]
  },
  {
   "cell_type": "code",
   "execution_count": 10,
   "metadata": {},
   "outputs": [
    {
     "data": {
      "text/plain": [
       "<matplotlib.axes._subplots.AxesSubplot at 0x2191b8f2310>"
      ]
     },
     "execution_count": 10,
     "metadata": {},
     "output_type": "execute_result"
    },
    {
     "data": {
      "image/png": "[encoded data removed]",
      "text/plain": [
       "<Figure size 432x288 with 1 Axes>"
      ]
     },
     "metadata": {
      "needs_background": "light"
     },
     "output_type": "display_data"
    }
   ],
   "source": [
    "strat_train_set['price_per_month'].hist(label=\"train\")\n",
    "strat_test_set['price_per_month'].hist(label='test')"
   ]
  },
  {
   "cell_type": "code",
   "execution_count": null,
   "metadata": {},
   "outputs": [],
   "source": []
  },
  {
   "cell_type": "code",
   "execution_count": 35,
   "metadata": {},
   "outputs": [],
   "source": [
    "sgd_reg = SGDRegressor(max_iter =1000, tol=1e-3, penalty=None, eta0=0.1)\n",
    "scores = cross_val_score(sgd_reg, X_train, y_train, scoring=\"neg_mean_squared_error\", cv=10)"
   ]
  },
  {
   "cell_type": "code",
   "execution_count": 36,
   "metadata": {},
   "outputs": [],
   "source": [
    "rmse_scores = np.sqrt(-scores)"
   ]
  },
  {
   "cell_type": "code",
   "execution_count": 42,
   "metadata": {},
   "outputs": [],
   "source": [
    "sgd_reg.fit(X_train, y_train)\n",
    "predictions = sgd_reg.predict(X_test)"
   ]
  },
  {
   "cell_type": "code",
   "execution_count": 39,
   "metadata": {},
   "outputs": [
    {
     "name": "stdout",
     "output_type": "stream",
     "text": [
      "Scores:  [7.58241666e+08 2.25359208e+06 6.75477994e+07 8.13525434e+08\n",
      " 4.78266295e+09 1.19352305e+06 3.72718211e+07 7.61595091e+09\n",
      " 5.91178145e+05 9.50803509e+09]\n",
      "Mean scores:  2358727395.994735\n",
      "Std scores:  3418860451.868728\n"
     ]
    }
   ],
   "source": [
    "print(\"Scores: \", rmse_scores)\n",
    "print(\"Mean scores: \", np.mean(rmse_scores))\n",
    "print(\"Std scores: \", np.std(rmse_scores))"
   ]
  },
  {
   "cell_type": "code",
   "execution_count": 43,
   "metadata": {},
   "outputs": [
    {
     "data": {
      "text/plain": [
       "array([-6.59213231e+07,  3.71182748e+06,  4.19320464e+07, -7.74159020e+07,\n",
       "       -1.59065357e+08, -1.16261932e+08, -1.01499150e+08,  3.13448558e+07,\n",
       "       -1.09799455e+08, -8.16327150e+07, -1.62080184e+08, -7.18125627e+07,\n",
       "       -6.65340382e+07, -1.50243658e+08, -1.15902244e+08, -4.71224641e+07,\n",
       "       -1.40525458e+08,  2.33363585e+05, -1.35246047e+08, -7.84155398e+07,\n",
       "       -6.75469279e+07, -3.81854618e+07, -1.12573956e+08, -9.33634958e+07,\n",
       "       -1.18343016e+09, -1.03000165e+08, -9.26033046e+07, -8.17359029e+07,\n",
       "       -4.90281408e+07, -5.71646353e+07, -1.07058710e+08, -9.31711849e+07,\n",
       "       -7.73709800e+07, -1.03286586e+08, -1.05645492e+08, -1.59367538e+08,\n",
       "       -6.28175858e+07, -8.22508586e+07, -9.13341614e+07, -7.78265888e+07,\n",
       "       -9.02880807e+07, -4.68419165e+07, -1.31160895e+08, -1.03902404e+08,\n",
       "       -8.70884611e+07, -6.41888023e+07, -5.32572295e+07, -1.40807817e+08,\n",
       "       -1.48075901e+08, -2.58238583e+07, -1.97409066e+08, -2.77669649e+07,\n",
       "       -4.55752755e+07, -4.17867895e+07, -1.33447374e+08, -1.45960237e+08,\n",
       "       -8.84337241e+07, -1.06788408e+08, -9.93595831e+07, -1.43892552e+08,\n",
       "       -6.84094497e+07, -2.00616898e+07, -1.17897268e+09, -4.98017330e+07,\n",
       "       -7.21279052e+07, -9.58520746e+07, -3.41073299e+07, -5.77870425e+07,\n",
       "       -8.80929402e+07, -8.36131929e+07, -6.96943303e+07, -1.41650392e+08,\n",
       "       -7.73408437e+07, -1.56415002e+08, -5.44531838e+07, -5.42342877e+07,\n",
       "       -6.26686976e+07,  4.49509517e+07, -1.40408164e+08])"
      ]
     },
     "execution_count": 43,
     "metadata": {},
     "output_type": "execute_result"
    }
   ],
   "source": [
    "predictions"
   ]
  },
  {
   "cell_type": "code",
   "execution_count": null,
   "metadata": {},
   "outputs": [],
   "source": []
  }
 ],
 "metadata": {
  "kernelspec": {
   "display_name": "Python 3",
   "language": "python",
   "name": "python3"
  },
  "language_info": {
   "codemirror_mode": {
    "name": "ipython",
    "version": 3
   },
   "file_extension": ".py",
   "mimetype": "text/x-python",
   "name": "python",
   "nbconvert_exporter": "python",
   "pygments_lexer": "ipython3",
   "version": "3.8.3"
  }
 },
 "nbformat": 4,
 "nbformat_minor": 4
}
