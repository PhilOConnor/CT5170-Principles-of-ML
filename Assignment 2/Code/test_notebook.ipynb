{
 "cells": [
  {
   "cell_type": "code",
   "execution_count": 1,
   "metadata": {},
   "outputs": [],
   "source": [
    "import pandas as pd\n",
    "import numpy as np\n",
    "\n",
    "from sklearn.model_selection import train_test_split"
   ]
  },
  {
   "cell_type": "code",
   "execution_count": null,
   "metadata": {},
   "outputs": [],
   "source": []
  },
  {
   "cell_type": "code",
   "execution_count": 2,
   "metadata": {},
   "outputs": [],
   "source": [
    "df = pd.read_csv(\"../Data/wildfires.txt\", delimiter='\\t')\n"
   ]
  },
  {
   "cell_type": "code",
   "execution_count": 11,
   "metadata": {},
   "outputs": [],
   "source": [
    "from math import log2\n",
    "import itertools \n",
    "\n",
    "def information_gain(df, target, columns):\n",
    "    \"\"\"\n",
    "    Calculate the information gain for all the columns to be presented at the feature selection screen. \n",
    "    Mean value will be used to bucket the values.\n",
    "    \"\"\"\n",
    "    df_output = pd.DataFrame()\n",
    "    \n",
    "    target_vals = list(set(df[target]))\n",
    "    val1 = target_vals[0]\n",
    "    val2 = target_vals[1]\n",
    "    \n",
    "    df_entropy = -(len(df[df[target]==val1])/len(df))*log2(len(df[df[target]==val1])/len(df)) - (len(df[df[target]==val2])/len(df))*log2(len(df[df[target]==val2])/len(df))\n",
    "    \n",
    "    \n",
    "    for col in columns:        \n",
    "        mean_val = np.mean(df[col])\n",
    "        high_val= df[df[col]>=mean_val]\n",
    "        low_val = df[df[col]<mean_val]\n",
    "        try:\n",
    "            # Some columns like rain have no fires above the mean value so the below equation breaks down - this is a very significant feature to include\n",
    "            if len(set(high_val[target])) ==2 :\n",
    "                high_exp1 = -(len(high_val[high_val[target]==val1]) / len(high_val))*log2(len(high_val[high_val[target]==val1])/len(high_val)) \n",
    "                high_exp2 = -(len(high_val[high_val[target]==val2]) / len(high_val))*log2(len(high_val[high_val[target]==val2])/len(high_val))\n",
    "                high_ent =  high_exp1 + high_exp2\n",
    "            else:\n",
    "                high_ent=0\n",
    "\n",
    "            if len(set(low_val[target])) ==2 :\n",
    "                low_exp1 = -(len(low_val[low_val[target]==val1]) / len(low_val))*log2(len(low_val[low_val[target]==val1])/len(low_val)) \n",
    "                low_exp2 = -(len(low_val[low_val[target]==val2]) / len(low_val))*log2(len(low_val[low_val[target]==val2])/len(low_val))\n",
    "                low_ent =  low_exp1 + low_exp2\n",
    "            else:\n",
    "                low_ent=0\n",
    "\n",
    "            info_gain = df_entropy - (len(high_val)/len(df))*high_ent - (len(low_val)/len(df))*low_ent\n",
    "            df_output = df_output.append([[col,np.round(mean_val,2),np.round(info_gain, 2)]])\n",
    "        except:\n",
    "            pass\n",
    "    df_output = df_output.rename(columns={0:'Column', 1:\"Mean Value\", 2:\"Information Gain\"})\n",
    "    return(df_output)\n",
    "        \n",
    "        \n",
    "\n",
    "def feature_selection(df):\n",
    "    \n",
    "    print(df.dtypes)\n",
    "    \n",
    "    target = input('Pick the target variable')\n",
    "    \n",
    "    df[target] = [x.strip() for x in df[target]]\n",
    "    df_cols = df.drop(target ,axis=1)\n",
    "   \n",
    "    ig = information_gain(df, target, df_cols.columns)\n",
    "    info_cols = pd.DataFrame(df_cols.dtypes)\n",
    "    info_cols.reset_index(inplace=True)\n",
    "    info_cols = info_cols.rename(columns={'index':'Column', 0:'Data Type'})\n",
    "    info_cols= info_cols.merge(ig, on='Column').sort_values(\"Information Gain\" ,ascending=False)\n",
    "    print(\"Information gain calculated for bins either side of mean values for each feature\")\n",
    "    print(info_cols)\n",
    "    cols = input(\"Please enter the desired columns for anaylsis: \")\n",
    "    cols = [x.strip() for x in cols.split(',')]\n",
    "    return target, cols"
   ]
  },
  {
   "cell_type": "code",
   "execution_count": 12,
   "metadata": {},
   "outputs": [
    {
     "name": "stdout",
     "output_type": "stream",
     "text": [
      "yes               object\n",
      "year               int64\n",
      "temp               int64\n",
      "humidity           int64\n",
      "rainfall         float64\n",
      "drought_code     float64\n",
      "buildup_index    float64\n",
      "day                int64\n",
      "month              int64\n",
      "wind_speed         int64\n",
      "dtype: object\n",
      "Information gain calculated for bins either side of mean values for each feature\n",
      "          Column Data Type  Mean Value  Information Gain\n",
      "5  buildup_index   float64       16.54              0.30\n",
      "3       rainfall   float64        0.82              0.25\n",
      "4   drought_code   float64       48.54              0.23\n",
      "1           temp     int64       31.91              0.18\n",
      "2       humidity     int64       62.28              0.11\n",
      "6            day     int64       15.69              0.03\n",
      "7          month     int64        7.55              0.03\n",
      "0           year     int64     2011.98              0.00\n",
      "8     wind_speed     int64       16.45              0.00\n"
     ]
    }
   ],
   "source": [
    "target, cols = feature_selection(df)"
   ]
  },
  {
   "cell_type": "code",
   "execution_count": 15,
   "metadata": {},
   "outputs": [
    {
     "data": {
      "text/plain": [
       "'yes'"
      ]
     },
     "execution_count": 15,
     "metadata": {},
     "output_type": "execute_result"
    }
   ],
   "source": [
    "target"
   ]
  },
  {
   "cell_type": "code",
   "execution_count": 16,
   "metadata": {},
   "outputs": [
    {
     "data": {
      "text/plain": [
       "['buildup_index', 'rainfall', 'drought_code', 'temp']"
      ]
     },
     "execution_count": 16,
     "metadata": {},
     "output_type": "execute_result"
    }
   ],
   "source": [
    "cols"
   ]
  },
  {
   "cell_type": "code",
   "execution_count": 19,
   "metadata": {},
   "outputs": [],
   "source": [
    "X_train, X_test, y_train, y_test = train_test_split(df[cols], df[target], test_size=0.3, random_state=10)"
   ]
  },
  {
   "cell_type": "code",
   "execution_count": 23,
   "metadata": {},
   "outputs": [
    {
     "data": {
      "text/plain": [
       "59     yes\n",
       "35     yes\n",
       "47     yes\n",
       "98      no\n",
       "101     no\n",
       "55     yes\n",
       "75      no\n",
       "58     yes\n",
       "174     no\n",
       "5      yes\n",
       "178     no\n",
       "130    yes\n",
       "159    yes\n",
       "39      no\n",
       "78      no\n",
       "19      no\n",
       "1       no\n",
       "2       no\n",
       "117     no\n",
       "10     yes\n",
       "95     yes\n",
       "6      yes\n",
       "162    yes\n",
       "121     no\n",
       "20     yes\n",
       "132    yes\n",
       "99      no\n",
       "168    yes\n",
       "72      no\n",
       "61     yes\n",
       "      ... \n",
       "68      no\n",
       "46     yes\n",
       "166    yes\n",
       "179     no\n",
       "138     no\n",
       "70      no\n",
       "175     no\n",
       "152    yes\n",
       "182    yes\n",
       "155    yes\n",
       "52     yes\n",
       "129     no\n",
       "83      no\n",
       "110    yes\n",
       "143     no\n",
       "49      no\n",
       "63     yes\n",
       "194    yes\n",
       "7      yes\n",
       "26     yes\n",
       "105    yes\n",
       "60     yes\n",
       "111     no\n",
       "127    yes\n",
       "203     no\n",
       "165    yes\n",
       "128     no\n",
       "24     yes\n",
       "43      no\n",
       "76      no\n",
       "Name: yes, Length: 62, dtype: object"
      ]
     },
     "execution_count": 23,
     "metadata": {},
     "output_type": "execute_result"
    }
   ],
   "source": [
    "y_test"
   ]
  },
  {
   "cell_type": "code",
   "execution_count": null,
   "metadata": {},
   "outputs": [],
   "source": []
  }
 ],
 "metadata": {
  "kernelspec": {
   "display_name": "Python 3",
   "language": "python",
   "name": "python3"
  },
  "language_info": {
   "codemirror_mode": {
    "name": "ipython",
    "version": 3
   },
   "file_extension": ".py",
   "mimetype": "text/x-python",
   "name": "python",
   "nbconvert_exporter": "python",
   "pygments_lexer": "ipython3",
   "version": "3.6.5"
  }
 },
 "nbformat": 4,
 "nbformat_minor": 2
}
