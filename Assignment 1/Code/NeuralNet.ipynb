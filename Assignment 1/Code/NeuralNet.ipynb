{
 "cells": [
  {
   "cell_type": "markdown",
   "metadata": {},
   "source": [
    "Refer to https://github.com/annisap/irs-mlp/blob/master/MLP-LearningCurves.ipynb"
   ]
  },
  {
   "cell_type": "code",
   "execution_count": 18,
   "metadata": {},
   "outputs": [],
   "source": [
    "import pandas as pd\n",
    "from sklearn.preprocessing import LabelEncoder\n",
    "from sklearn.preprocessing import StandardScaler\n",
    "from sklearn.neural_network import MLPClassifier\n",
    "import matplotlib.pyplot as plt\n",
    "import seaborn as sns\n",
    "import numpy as np"
   ]
  },
  {
   "cell_type": "code",
   "execution_count": 2,
   "metadata": {},
   "outputs": [],
   "source": [
    "def data_import(df):\n",
    "    import_df = pd.read_csv(f'../Data/wildfires_{df}.txt', sep='\\t')\n",
    "    \n",
    "    for column in import_df:\n",
    "        try:\n",
    "            import_df[column] = import_df[column].str.strip()\n",
    "        except:\n",
    "            pass\n",
    "        return import_df\n",
    "def create_dummies(df,column_name):\n",
    "    dummies = pd.get_dummies(df[column_name],prefix=column_name)\n",
    "    df = pd.concat([df,dummies],axis=1)\n",
    "    return df"
   ]
  },
  {
   "cell_type": "code",
   "execution_count": 3,
   "metadata": {},
   "outputs": [],
   "source": [
    "df_train = pd.DataFrame(data_import('training'))\n",
    "#df.reset_index(inplace=True, drop=False)\n",
    "df_test = pd.DataFrame(data_import('test'))"
   ]
  },
  {
   "cell_type": "code",
   "execution_count": 4,
   "metadata": {},
   "outputs": [],
   "source": [
    "X_cols = ['year', 'temp', 'humidity', 'rainfall', 'drought_code','buildup_index',  'wind_speed']\n",
    "y_col = ['fire']\n",
    "\n",
    "X_train = df_train[X_cols]\n",
    "y_train = df_train[y_col]\n",
    "\n",
    "X_test = df_test[X_cols]\n",
    "y_test = df_test[y_col]"
   ]
  },
  {
   "cell_type": "code",
   "execution_count": 5,
   "metadata": {},
   "outputs": [],
   "source": [
    "#Encode Categorical variables with LabelEncoder\n",
    "labelencoder = LabelEncoder()\n",
    "df_train['fire'] = labelencoder.fit_transform(df_train[\"fire\"])\n",
    "\n",
    "fire = pd.DataFrame({'fire':['no', 'yes']})"
   ]
  },
  {
   "cell_type": "code",
   "execution_count": 6,
   "metadata": {},
   "outputs": [],
   "source": [
    "\"\"\"\n",
    "LabelEncoder introduced a new problem (noise) to our dataset: added numerical relationships in the features that now have become ordinal variables. \n",
    "That means that the model thinks that Iris-versicolor(1) is higher than Iris-setosa(0) and Iris-setosa(0) is smaller than Iris-virginica(2).\n",
    "To solve that we would take a three dimensional vector, rather than an one dimensional vector with 3 values ([0,1,2])\n",
    "\"\"\"\n",
    "df_train = create_dummies(df_train, 'fire')"
   ]
  },
  {
   "cell_type": "code",
   "execution_count": 7,
   "metadata": {},
   "outputs": [],
   "source": [
    "# Need to scale the data now - MLP(?) is sensitive to unnormalised data\n",
    "unscaled_features = X_train\n",
    "\n",
    "sc = StandardScaler()\n",
    "#calculate μ & σ(fit) and apply the transformation(transform)\n",
    "X_train_array = sc.fit_transform(X_train.values)\n",
    "# Assign the scaled data to a DataFrame & use the index and columns arguments to keep your original indices and column names:\n",
    "X_train = pd.DataFrame(X_train_array, index=X_train.index, columns=X_train.columns)\n",
    "# Center test data with the μ & σ computed (fitted) on training data\n",
    "X_test_array = sc.transform(X_test.values)\n",
    "X_test = pd.DataFrame(X_test_array, index=X_test.index, columns=X_test.columns)"
   ]
  },
  {
   "cell_type": "code",
   "execution_count": 8,
   "metadata": {},
   "outputs": [
    {
     "data": {
      "image/png": "[encoded data removed]",
      "text/plain": [
       "<Figure size 432x360 with 2 Axes>"
      ]
     },
     "metadata": {},
     "output_type": "display_data"
    }
   ],
   "source": [
    "fig, (ax1, ax2) = plt.subplots(ncols=2, figsize=(6, 5))\n",
    "\n",
    "ax1.set_title('Before Scaling')\n",
    "sns.kdeplot(unscaled_features['humidity'], ax=ax1)\n",
    "sns.kdeplot(unscaled_features['rainfall'], ax=ax1)\n",
    "sns.kdeplot(unscaled_features['drought_code'], ax=ax1)\n",
    "sns.kdeplot(unscaled_features['buildup_index'], ax=ax1)\n",
    "sns.kdeplot(unscaled_features['wind_speed'], ax=ax1)\n",
    "\n",
    "ax2.set_title('After Scaling')\n",
    "sns.kdeplot(X_train['humidity'], ax=ax2)\n",
    "sns.kdeplot(X_train['rainfall'], ax=ax2)\n",
    "sns.kdeplot(X_train['drought_code'], ax=ax2)\n",
    "sns.kdeplot(X_train['buildup_index'], ax=ax2)\n",
    "sns.kdeplot(X_train['wind_speed'], ax=ax2)\n",
    "\n",
    "plt.show()"
   ]
  },
  {
   "cell_type": "code",
   "execution_count": 9,
   "metadata": {},
   "outputs": [],
   "source": [
    "mlp = MLPClassifier(hidden_layer_sizes=(10),solver='sgd',learning_rate_init= 0.01, max_iter=500)"
   ]
  },
  {
   "cell_type": "code",
   "execution_count": 10,
   "metadata": {},
   "outputs": [
    {
     "name": "stderr",
     "output_type": "stream",
     "text": [
      "C:\\Users\\phil-\\Anaconda3\\lib\\site-packages\\sklearn\\utils\\validation.py:63: DataConversionWarning: A column-vector y was passed when a 1d array was expected. Please change the shape of y to (n_samples, ), for example using ravel().\n",
      "  return f(*args, **kwargs)\n",
      "C:\\Users\\phil-\\Anaconda3\\lib\\site-packages\\sklearn\\neural_network\\_multilayer_perceptron.py:617: ConvergenceWarning: Stochastic Optimizer: Maximum iterations (500) reached and the optimization hasn't converged yet.\n",
      "  % self.max_iter, ConvergenceWarning)\n"
     ]
    },
    {
     "data": {
      "text/plain": [
       "MLPClassifier(hidden_layer_sizes=10, learning_rate_init=0.01, max_iter=500,\n",
       "              solver='sgd')"
      ]
     },
     "execution_count": 10,
     "metadata": {},
     "output_type": "execute_result"
    }
   ],
   "source": [
    "mlp.fit(X_train, y_train)"
   ]
  },
  {
   "cell_type": "code",
   "execution_count": 11,
   "metadata": {},
   "outputs": [
    {
     "data": {
      "text/plain": [
       "0.84"
      ]
     },
     "execution_count": 11,
     "metadata": {},
     "output_type": "execute_result"
    }
   ],
   "source": [
    "mlp.score(X_test,y_test)"
   ]
  },
  {
   "cell_type": "code",
   "execution_count": 12,
   "metadata": {},
   "outputs": [
    {
     "data": {
      "text/plain": [
       "0.9155844155844156"
      ]
     },
     "execution_count": 12,
     "metadata": {},
     "output_type": "execute_result"
    }
   ],
   "source": [
    "mlp.score(X_train, y_train)"
   ]
  }
 ],
 "metadata": {
  "kernelspec": {
   "display_name": "Python 3",
   "language": "python",
   "name": "python3"
  },
  "language_info": {
   "codemirror_mode": {
    "name": "ipython",
    "version": 3
   },
   "file_extension": ".py",
   "mimetype": "text/x-python",
   "name": "python",
   "nbconvert_exporter": "python",
   "pygments_lexer": "ipython3",
   "version": "3.6.5"
  }
 },
 "nbformat": 4,
 "nbformat_minor": 2
}
